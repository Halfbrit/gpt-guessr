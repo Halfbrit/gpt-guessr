{
 "cells": [
  {
   "cell_type": "code",
   "execution_count": 3,
   "metadata": {},
   "outputs": [],
   "source": [
    "import os\n",
    "os.environ['USE_PYGEOS'] = '0'\n",
    "\n",
    "import numpy as np\n",
    "import pandas as pd\n",
    "import geopandas as gpd\n",
    "from shapely.geometry import Point\n",
    "import matplotlib.pyplot as plt\n",
    "import matplotlib.colors as colors\n",
    "\n",
    "from tqdm.auto import tqdm\n",
    "\n",
    "import PIL\n",
    "from PIL import Image\n",
    "import rasterio\n",
    "\n",
    "import requests\n",
    "\n",
    "import scipy.stats as stats"
   ]
  },
  {
   "attachments": {},
   "cell_type": "markdown",
   "metadata": {},
   "source": [
    "# Gen Points"
   ]
  },
  {
   "cell_type": "code",
   "execution_count": 2,
   "metadata": {},
   "outputs": [],
   "source": [
    "tif_file = rasterio.open('population/population_heatmap.tif')\n",
    "heatmap = tif_file.read() + 200\n",
    "heatmap /= heatmap.max()\n",
    "heatmap = heatmap.squeeze(0)"
   ]
  },
  {
   "cell_type": "code",
   "execution_count": 25,
   "metadata": {},
   "outputs": [
    {
     "name": "stdout",
     "output_type": "stream",
     "text": [
      "Predicting\n",
      "Predicting(1.06%)\n",
      "Predicting(1.17%)\n",
      "Predicting(2.22%)\n",
      "Predicting(1.02%)\n",
      "Predicting(2.27%))\n",
      "1010/18000 (5.61%)\r"
     ]
    },
    {
     "name": "stdout",
     "output_type": "stream",
     "text": [
      "1015/18000 (5.64%)\r"
     ]
    }
   ],
   "source": [
    "from multiprocessing import Process\n",
    "from gen_points import gen_points\n",
    "for i in range(6):\n",
    "    t = Process(target=gen_points, args=(heatmap, i))\n",
    "    t.start()"
   ]
  },
  {
   "cell_type": "code",
   "execution_count": 248,
   "metadata": {},
   "outputs": [],
   "source": [
    "points = np.load('points.npy')\n",
    "for i in range(0, 6):\n",
    "    points = np.concatenate((points, np.load(f'points_{i}.npy')))"
   ]
  },
  {
   "cell_type": "code",
   "execution_count": 65,
   "metadata": {},
   "outputs": [],
   "source": [
    "np.save('points.npy', points)"
   ]
  },
  {
   "cell_type": "code",
   "execution_count": null,
   "metadata": {},
   "outputs": [],
   "source": [
    "for i, point in enumerate(coords_df.geometry):\n",
    "    if not world.contains(point).any():\n",
    "        coords_df.drop(i, inplace=True)"
   ]
  },
  {
   "cell_type": "code",
   "execution_count": 2,
   "metadata": {},
   "outputs": [
    {
     "ename": "NameError",
     "evalue": "name 'coords_df' is not defined",
     "output_type": "error",
     "traceback": [
      "\u001b[0;31m---------------------------------------------------------------------------\u001b[0m",
      "\u001b[0;31mNameError\u001b[0m                                 Traceback (most recent call last)",
      "Cell \u001b[0;32mIn[2], line 1\u001b[0m\n\u001b[0;32m----> 1\u001b[0m coords_df \u001b[39m=\u001b[39m coords_df\u001b[39m.\u001b[39mreindex()\n\u001b[1;32m      2\u001b[0m coords_df\u001b[39m.\u001b[39mto_pickle(\u001b[39m'\u001b[39m\u001b[39mcoords_df.pkl\u001b[39m\u001b[39m'\u001b[39m)\n",
      "\u001b[0;31mNameError\u001b[0m: name 'coords_df' is not defined"
     ]
    }
   ],
   "source": [
    "coords_df = coords_df.reindex()\n",
    "coords_df.to_pickle('coords_df.pkl')"
   ]
  },
  {
   "attachments": {},
   "cell_type": "markdown",
   "metadata": {},
   "source": [
    "# Mask Points"
   ]
  },
  {
   "cell_type": "code",
   "execution_count": 15,
   "metadata": {},
   "outputs": [],
   "source": [
    "world = gpd.read_file(gpd.datasets.get_path('naturalearth_lowres'))\n",
    "coords_df = pd.read_pickle('coords_df.pkl')"
   ]
  },
  {
   "cell_type": "code",
   "execution_count": 3,
   "metadata": {},
   "outputs": [],
   "source": [
    "china = world[world['name'] == 'China'].geometry\n",
    "africa = world[world['continent'] == 'Africa'].geometry\n",
    "india = world[world['name'] == 'India'].geometry\n",
    "\n",
    "for i, point in enumerate(coords_df.geometry):\n",
    "    if china.contains(point).all():\n",
    "        coords_df.iloc[i] = None\n",
    "coords_df.dropna(inplace=True)\n",
    "coords_df = coords_df.reset_index()\n",
    "print(\"China Gone\")\n",
    "\n",
    "for i, point in enumerate(coords_df.geometry):\n",
    "    for geom in africa:\n",
    "        if geom.contains(point):\n",
    "            if np.random.uniform() > 0.75:\n",
    "                coords_df.iloc[i] = None\n",
    "coords_df.dropna(inplace=True)\n",
    "coords_df = coords_df.reset_index()\n",
    "print(\"Africa Gone\")\n",
    "\n",
    "for i, point in enumerate(coords_df.geometry):\n",
    "    for geom in india:\n",
    "        if geom.contains(point):\n",
    "            if np.random.uniform() > 0.25:\n",
    "                coords_df.iloc[i] = None\n",
    "coords_df.dropna(inplace=True)\n",
    "coords_df = coords_df.reset_index()\n",
    "print(\"India Gone\")\n",
    "\n",
    "coords_df.to_pickle('coords_df_masked.pkl')"
   ]
  },
  {
   "cell_type": "code",
   "execution_count": 210,
   "metadata": {},
   "outputs": [],
   "source": [
    "coords_df = gpd.GeoDataFrame(geometry=[Point(-137.899731, 66.488417)])\n",
    "# world = world.to_crs('EPSG:3857')\n",
    "world = world[world['continent'] != 'Antarctica']"
   ]
  },
  {
   "cell_type": "code",
   "execution_count": 3,
   "metadata": {},
   "outputs": [
    {
     "data": {
      "text/plain": [
       "<AxesSubplot: >"
      ]
     },
     "execution_count": 3,
     "metadata": {},
     "output_type": "execute_result"
    },
    {
     "data": {
      "image/png": "[encoded data removed]",
      "text/plain": [
       "<Figure size 640x480 with 1 Axes>"
      ]
     },
     "metadata": {},
     "output_type": "display_data"
    }
   ],
   "source": [
    "world_plot = world.plot()\n",
    "\n",
    "coords_df.plot(ax=world_plot, marker='o', color='red', markersize=0.05)"
   ]
  },
  {
   "cell_type": "code",
   "execution_count": 213,
   "metadata": {},
   "outputs": [
    {
     "data": {
      "text/plain": [
       "<AxesSubplot: >"
      ]
     },
     "execution_count": 213,
     "metadata": {},
     "output_type": "execute_result"
    },
    {
     "data": {
      "image/png": "[encoded data removed]",
      "text/plain": [
       "<Figure size 640x480 with 1 Axes>"
      ]
     },
     "metadata": {},
     "output_type": "display_data"
    }
   ],
   "source": [
    "world_plot = world.plot()\n",
    "coords_df.plot(ax=world_plot, marker='o', color='red', markersize=0.05)"
   ]
  },
  {
   "attachments": {},
   "cell_type": "markdown",
   "metadata": {},
   "source": [
    "# Get Nearest Road"
   ]
  },
  {
   "cell_type": "code",
   "execution_count": 5,
   "metadata": {},
   "outputs": [],
   "source": [
    "coords_df_masked = pd.read_pickle('coords_df_masked.pkl')\n",
    "coords = coords_df_masked.geometry"
   ]
  },
  {
   "cell_type": "code",
   "execution_count": 4,
   "metadata": {},
   "outputs": [
    {
     "data": {
      "text/plain": [
       "0    POINT (-71.23103 83.11540)\n",
       "1    POINT (-36.58970 82.32077)\n",
       "2    POINT (-27.64766 81.63364)\n",
       "3    POINT (-78.17895 81.39289)\n",
       "4    POINT (-38.89597 81.28131)\n",
       "Name: geometry, dtype: geometry"
      ]
     },
     "execution_count": 4,
     "metadata": {},
     "output_type": "execute_result"
    }
   ],
   "source": [
    "coords.head()"
   ]
  },
  {
   "cell_type": "code",
   "execution_count": null,
   "metadata": {},
   "outputs": [],
   "source": [
    "for i, point in enumerate(coords_df_masked.geometry):\n",
    "    if np.random.uniform() > 0.65:\n",
    "        coords_df_masked.iloc[i] = None\n",
    "coords_df_masked.dropna(inplace=True)\n",
    "coords_df_masked = coords_df_masked.reset_index()"
   ]
  },
  {
   "cell_type": "code",
   "execution_count": 6,
   "metadata": {},
   "outputs": [],
   "source": [
    "key = input(\"Enter API Key: \")"
   ]
  },
  {
   "cell_type": "code",
   "execution_count": 14,
   "metadata": {},
   "outputs": [],
   "source": [
    "def get_data():\n",
    "    url = 'https://maps.googleapis.com/maps/api/streetview/metadata'\n",
    "    \n",
    "\n",
    "    file_names = os.listdir('data/')\n",
    "    save_file_names = []\n",
    "    countries = []\n",
    "    img_coords = []\n",
    "    i = 0\n",
    "    while i < maxv - minv:\n",
    "        con = True\n",
    "        if not file_names[i][-5].isnumeric() or int(file_names[i][-5]) != 0:\n",
    "            i += 1\n",
    "            con = False\n",
    "        \n",
    "        if con:\n",
    "            file_name = file_names[i][:-6]\n",
    "            idx = int(file_name[-6:])\n",
    "            \n",
    "            lat, lon = coords[idx].y, coords[idx].x\n",
    "\n",
    "            params = {\n",
    "                'key': key,\n",
    "                'size': '640x640',\n",
    "                'location': f'{lat:.3f},{lon:.3f}',\n",
    "                'heading': 90,\n",
    "                'pitch': '20',\n",
    "                'fov': '90',\n",
    "                'radius': 1000000\n",
    "                }\n",
    "\n",
    "            response = requests.get(url, params)\n",
    "            if response.json()['status'] == \"OK\":\n",
    "                lat, lon = response.json()['location']['lat'], response.json()['location']['lng']\n",
    "            else:\n",
    "                lat, lon = 0, 0\n",
    "            \n",
    "            for j, country in enumerate(world.geometry):\n",
    "                if country.contains(Point(lon, lat)):\n",
    "                    save_file_names.append(file_name)\n",
    "                    countries.append(j)\n",
    "                    img_coords.append([lat, lon])\n",
    "            \n",
    "            i += 3\n",
    "        \n",
    "        print(f\"Image {i} Percent: {(i) / (maxv) * 100:.2f}%\", end='\\r')\n",
    "        \n",
    "    pd.DataFrame({'file_name': save_file_names, 'country': countries, 'coords': img_coords}).to_pickle(f'df_{minv}_{maxv}.df')\n",
    "    # Save the coordinates to the output file\n"
   ]
  },
  {
   "cell_type": "code",
   "execution_count": 7,
   "metadata": {},
   "outputs": [
    {
     "data": {
      "text/plain": [
       "15696"
      ]
     },
     "execution_count": 7,
     "metadata": {},
     "output_type": "execute_result"
    }
   ],
   "source": [
    "data_len = len(os.listdir('data/'))\n",
    "data_len = data_len // 6\n",
    "data_len"
   ]
  },
  {
   "cell_type": "code",
   "execution_count": 8,
   "metadata": {},
   "outputs": [
    {
     "name": "stderr",
     "output_type": "stream",
     "text": [
      "/Users/alexanderkorte/mambaforge/envs/ml/lib/python3.8/site-packages/shapely/constructive.py:181: RuntimeWarning: invalid value encountered in buffer\n",
      "  return lib.buffer(\n",
      "/Users/alexanderkorte/mambaforge/envs/ml/lib/python3.8/site-packages/shapely/constructive.py:181: RuntimeWarning: invalid value encountered in buffer\n",
      "  return lib.buffer(\n"
     ]
    },
    {
     "name": "stdout",
     "output_type": "stream",
     "text": [
      "Image 7 Percent: 0.04%%\r"
     ]
    },
    {
     "name": "stderr",
     "output_type": "stream",
     "text": [
      "/Users/alexanderkorte/mambaforge/envs/ml/lib/python3.8/site-packages/shapely/constructive.py:181: RuntimeWarning: invalid value encountered in buffer\n",
      "  return lib.buffer(\n"
     ]
    },
    {
     "name": "stdout",
     "output_type": "stream",
     "text": [
      "Image 10 Percent: 0.06%\r"
     ]
    },
    {
     "name": "stderr",
     "output_type": "stream",
     "text": [
      "/Users/alexanderkorte/mambaforge/envs/ml/lib/python3.8/site-packages/shapely/constructive.py:181: RuntimeWarning: invalid value encountered in buffer\n",
      "  return lib.buffer(\n"
     ]
    },
    {
     "name": "stdout",
     "output_type": "stream",
     "text": [
      "Image 29 Percent: 0.18%\r"
     ]
    },
    {
     "name": "stderr",
     "output_type": "stream",
     "text": [
      "/Users/alexanderkorte/mambaforge/envs/ml/lib/python3.8/site-packages/shapely/constructive.py:181: RuntimeWarning: invalid value encountered in buffer\n",
      "  return lib.buffer(\n"
     ]
    },
    {
     "name": "stdout",
     "output_type": "stream",
     "text": [
      "Image 39 Percent: 0.25%\r"
     ]
    },
    {
     "name": "stderr",
     "output_type": "stream",
     "text": [
      "/Users/alexanderkorte/mambaforge/envs/ml/lib/python3.8/site-packages/shapely/constructive.py:181: RuntimeWarning: invalid value encountered in buffer\n",
      "  return lib.buffer(\n"
     ]
    },
    {
     "name": "stdout",
     "output_type": "stream",
     "text": [
      "Image 15697 Percent: 100.01%mage 15399 Percent: 98.11%age 3244 Percent: 20.67%Image 10976 Percent: 69.93%\r"
     ]
    }
   ],
   "source": [
    "from multiprocessing import Process\n",
    "from get_loc import get_data\n",
    "for i in range(6):\n",
    "    t = Process(target=get_data, args=(i*data_len, (i+1)*data_len, coords, key, world))\n",
    "    t.start()"
   ]
  },
  {
   "cell_type": "code",
   "execution_count": 12,
   "metadata": {},
   "outputs": [
    {
     "data": {
      "text/html": [
       "<div>\n",
       "<style scoped>\n",
       "    .dataframe tbody tr th:only-of-type {\n",
       "        vertical-align: middle;\n",
       "    }\n",
       "\n",
       "    .dataframe tbody tr th {\n",
       "        vertical-align: top;\n",
       "    }\n",
       "\n",
       "    .dataframe thead th {\n",
       "        text-align: right;\n",
       "    }\n",
       "</style>\n",
       "<table border=\"1\" class=\"dataframe\">\n",
       "  <thead>\n",
       "    <tr style=\"text-align: right;\">\n",
       "      <th></th>\n",
       "      <th>file_name</th>\n",
       "      <th>country</th>\n",
       "      <th>coords</th>\n",
       "    </tr>\n",
       "  </thead>\n",
       "  <tbody>\n",
       "    <tr>\n",
       "      <th>0</th>\n",
       "      <td>street_view_014085</td>\n",
       "      <td>44</td>\n",
       "      <td>[-2.6174365, -78.4535424]</td>\n",
       "    </tr>\n",
       "    <tr>\n",
       "      <th>1</th>\n",
       "      <td>street_view_013942</td>\n",
       "      <td>138</td>\n",
       "      <td>[6.9134071, 80.3828554]</td>\n",
       "    </tr>\n",
       "    <tr>\n",
       "      <th>2</th>\n",
       "      <td>street_view_009098</td>\n",
       "      <td>4</td>\n",
       "      <td>[37.87522209999999, -81.0356791]</td>\n",
       "    </tr>\n",
       "    <tr>\n",
       "      <th>3</th>\n",
       "      <td>street_view_004107</td>\n",
       "      <td>137</td>\n",
       "      <td>[-25.3012726, 130.6902566]</td>\n",
       "    </tr>\n",
       "    <tr>\n",
       "      <th>4</th>\n",
       "      <td>street_view_003417</td>\n",
       "      <td>55</td>\n",
       "      <td>[18.6873527, 6.203693299999999]</td>\n",
       "    </tr>\n",
       "  </tbody>\n",
       "</table>\n",
       "</div>"
      ],
      "text/plain": [
       "            file_name  country                            coords\n",
       "0  street_view_014085       44         [-2.6174365, -78.4535424]\n",
       "1  street_view_013942      138           [6.9134071, 80.3828554]\n",
       "2  street_view_009098        4  [37.87522209999999, -81.0356791]\n",
       "3  street_view_004107      137        [-25.3012726, 130.6902566]\n",
       "4  street_view_003417       55   [18.6873527, 6.203693299999999]"
      ]
     },
     "execution_count": 12,
     "metadata": {},
     "output_type": "execute_result"
    }
   ],
   "source": [
    "pkl = pd.read_pickle('df_78480_94176.df')\n",
    "pkl.head()"
   ]
  },
  {
   "cell_type": "code",
   "execution_count": 11,
   "metadata": {},
   "outputs": [
    {
     "ename": "IndexError",
     "evalue": "list index out of range",
     "output_type": "error",
     "traceback": [
      "\u001b[0;31m---------------------------------------------------------------------------\u001b[0m",
      "\u001b[0;31mIndexError\u001b[0m                                Traceback (most recent call last)",
      "Cell \u001b[0;32mIn[11], line 2\u001b[0m\n\u001b[1;32m      1\u001b[0m \u001b[39mfrom\u001b[39;00m \u001b[39mget_loc\u001b[39;00m \u001b[39mimport\u001b[39;00m get_data\n\u001b[0;32m----> 2\u001b[0m get_data(\u001b[39m1\u001b[39;49m\u001b[39m*\u001b[39;49mdata_len, (\u001b[39m1\u001b[39;49m\u001b[39m+\u001b[39;49m\u001b[39m1\u001b[39;49m)\u001b[39m*\u001b[39;49mdata_len, coords, key, world)\n",
      "File \u001b[0;32m~/Documents/GitHub/gpt-guessr/GPTGuessr/get_loc.py:18\u001b[0m, in \u001b[0;36mget_data\u001b[0;34m(minv, maxv, coords, key, world)\u001b[0m\n\u001b[1;32m     16\u001b[0m \u001b[39mwhile\u001b[39;00m i \u001b[39m<\u001b[39m maxv:\n\u001b[1;32m     17\u001b[0m     con \u001b[39m=\u001b[39m \u001b[39mTrue\u001b[39;00m\n\u001b[0;32m---> 18\u001b[0m     \u001b[39mif\u001b[39;00m \u001b[39mint\u001b[39m(file_names[i][\u001b[39m-\u001b[39m\u001b[39m5\u001b[39m]) \u001b[39m!=\u001b[39m \u001b[39m0\u001b[39m:\n\u001b[1;32m     19\u001b[0m         i \u001b[39m+\u001b[39m\u001b[39m=\u001b[39m \u001b[39m1\u001b[39m\n\u001b[1;32m     20\u001b[0m         con \u001b[39m=\u001b[39m \u001b[39mFalse\u001b[39;00m\n",
      "\u001b[0;31mIndexError\u001b[0m: list index out of range"
     ]
    }
   ],
   "source": [
    "from get_loc import get_data\n",
    "get_data(1*data_len, (1+1)*data_len, coords, key, world)"
   ]
  },
  {
   "cell_type": "code",
   "execution_count": 35,
   "metadata": {},
   "outputs": [
    {
     "data": {
      "text/plain": [
       "{'copyright': '© PT. Sumber Daya Wahana',\n",
       " 'date': '2022-02',\n",
       " 'location': {'lat': -2.8522972, 'lng': 129.7221903},\n",
       " 'pano_id': 'CAoSLEFGMVFpcFBZOUJrNjdjeVBYNlJ1eGhDcGVtbGR1X3IwY2N6Qld6M090R25x',\n",
       " 'status': 'OK'}"
      ]
     },
     "execution_count": 35,
     "metadata": {},
     "output_type": "execute_result"
    }
   ],
   "source": [
    "response.json()"
   ]
  },
  {
   "cell_type": "code",
   "execution_count": 14,
   "metadata": {},
   "outputs": [],
   "source": [
    "datasets = []\n",
    "for i in range(6):\n",
    "    dataset = pd.read_pickle(f'df_{i*data_len}_{(i+1)*data_len}.df')\n",
    "    datasets.append(dataset)\n",
    "\n",
    "dataset = pd.concat(datasets)\n",
    "dataset.to_pickle('data/dataset.df')"
   ]
  },
  {
   "cell_type": "code",
   "execution_count": 12,
   "metadata": {},
   "outputs": [
    {
     "data": {
      "text/plain": [
       "19161"
      ]
     },
     "execution_count": 12,
     "metadata": {},
     "output_type": "execute_result"
    }
   ],
   "source": [
    "len(dataset)"
   ]
  },
  {
   "cell_type": "code",
   "execution_count": 10,
   "metadata": {},
   "outputs": [
    {
     "name": "stdout",
     "output_type": "stream",
     "text": [
      "2708\n",
      "2709\n",
      "2688\n",
      "2709\n",
      "2719\n",
      "2721\n"
     ]
    }
   ],
   "source": [
    "for dataset in datasets:\n",
    "    print(len(dataset))"
   ]
  },
  {
   "cell_type": "markdown",
   "metadata": {},
   "source": []
  }
 ],
 "metadata": {
  "kernelspec": {
   "display_name": "ml",
   "language": "python",
   "name": "python3"
  },
  "language_info": {
   "codemirror_mode": {
    "name": "ipython",
    "version": 3
   },
   "file_extension": ".py",
   "mimetype": "text/x-python",
   "name": "python",
   "nbconvert_exporter": "python",
   "pygments_lexer": "ipython3",
   "version": "3.8.16"
  },
  "orig_nbformat": 4,
  "vscode": {
   "interpreter": {
    "hash": "8052d1d792de26149c022630e24c9726f724881113f45b9acec04039870ce31b"
   }
  }
 },
 "nbformat": 4,
 "nbformat_minor": 2
}
